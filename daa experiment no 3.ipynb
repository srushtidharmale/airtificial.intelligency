{
 "cells": [
  {
   "cell_type": "code",
   "execution_count": 3,
   "id": "9da2eadb",
   "metadata": {},
   "outputs": [
    {
     "name": "stdout",
     "output_type": "stream",
     "text": [
      "220\n"
     ]
    }
   ],
   "source": [
    "def knapSack(W, wt, val): \n",
    "    n=len(val)\n",
    "    table = [[0 for x in range(W + 1)] for x in range(n + 1)] \n",
    " \n",
    "    for i in range(n + 1): \n",
    "        for j in range(W + 1): \n",
    "            if i == 0 or j == 0: \n",
    "                table[i][j] = 0\n",
    "            elif wt[i-1] <= j: \n",
    "                table[i][j] = max(val[i-1]  \n",
    "+ table[i-1][j-wt[i-1]],  table[i-1][j]) \n",
    "            else: \n",
    "                table[i][j] = table[i-1][j] \n",
    "   \n",
    "    return table[n][W] \n",
    " \n",
    "val = [60,100,120]\n",
    "wt = [10,20,30]\n",
    "W = 50\n",
    " \n",
    "print(knapSack(W, wt, val))\n"
   ]
  },
  {
   "cell_type": "code",
   "execution_count": null,
   "id": "3ca450f3",
   "metadata": {},
   "outputs": [],
   "source": []
  }
 ],
 "metadata": {
  "kernelspec": {
   "display_name": "Python 3 (ipykernel)",
   "language": "python",
   "name": "python3"
  },
  "language_info": {
   "codemirror_mode": {
    "name": "ipython",
    "version": 3
   },
   "file_extension": ".py",
   "mimetype": "text/x-python",
   "name": "python",
   "nbconvert_exporter": "python",
   "pygments_lexer": "ipython3",
   "version": "3.10.9"
  }
 },
 "nbformat": 4,
 "nbformat_minor": 5
}
