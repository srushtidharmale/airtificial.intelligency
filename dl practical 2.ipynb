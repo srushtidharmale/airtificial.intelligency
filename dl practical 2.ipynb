{
 "cells": [
  {
   "cell_type": "code",
   "execution_count": 1,
   "id": "2b974eed",
   "metadata": {},
   "outputs": [],
   "source": [
    "from tensorflow.keras.datasets import imdb"
   ]
  },
  {
   "cell_type": "code",
   "execution_count": 2,
   "id": "96c0eecc",
   "metadata": {},
   "outputs": [
    {
     "name": "stdout",
     "output_type": "stream",
     "text": [
      "Downloading data from https://storage.googleapis.com/tensorflow/tf-keras-datasets/imdb.npz\n",
      "17464789/17464789 [==============================] - 3s 0us/step\n"
     ]
    }
   ],
   "source": [
    "(train_data, train_label), (test_data, test_label) = imdb.load_data(num_words = 10000)"
   ]
  },
  {
   "cell_type": "code",
   "execution_count": 3,
   "id": "54282a84",
   "metadata": {},
   "outputs": [],
   "source": [
    "import numpy as np\n",
    "\n",
    "def vectorize_sequences(sequences, dimensions = 10000):\n",
    "  results = np.zeros((len(sequences), dimensions))\n",
    "  for i,sequences in enumerate(sequences):\n",
    "    results[i, sequences] = 1\n",
    "  return results\n",
    "\n",
    "x_train = vectorize_sequences(train_data)\n",
    "y_train = vectorize_sequences(test_data)"
   ]
  },
  {
   "cell_type": "code",
   "execution_count": 4,
   "id": "370f0c7b",
   "metadata": {},
   "outputs": [],
   "source": [
    "y_train = np.asarray(train_label).astype('float32')\n",
    "y_test = np.asarray(test_label).astype('float32')"
   ]
  },
  {
   "cell_type": "code",
   "execution_count": 5,
   "id": "38269c43",
   "metadata": {},
   "outputs": [],
   "source": [
    "from tensorflow.keras.models import Sequential\n",
    "from tensorflow.keras.layers import Dense"
   ]
  },
  {
   "cell_type": "code",
   "execution_count": 6,
   "id": "399ede91",
   "metadata": {},
   "outputs": [],
   "source": [
    "model = Sequential()\n",
    "model.add(Dense(16, input_shape=(10000, ), activation = \"relu\"))\n",
    "model.add(Dense(16, activation = \"relu\"))\n",
    "model.add(Dense(1, activation = \"sigmoid\"))"
   ]
  },
  {
   "cell_type": "code",
   "execution_count": 7,
   "id": "8514be75",
   "metadata": {},
   "outputs": [],
   "source": [
    "model.compile(optimizer='adam', loss = 'mse', metrics = ['accuracy'])"
   ]
  },
  {
   "cell_type": "code",
   "execution_count": 8,
   "id": "063ea335",
   "metadata": {},
   "outputs": [
    {
     "name": "stdout",
     "output_type": "stream",
     "text": [
      "Model: \"sequential\"\n",
      "_________________________________________________________________\n",
      " Layer (type)                Output Shape              Param #   \n",
      "=================================================================\n",
      " dense (Dense)               (None, 16)                160016    \n",
      "                                                                 \n",
      " dense_1 (Dense)             (None, 16)                272       \n",
      "                                                                 \n",
      " dense_2 (Dense)             (None, 1)                 17        \n",
      "                                                                 \n",
      "=================================================================\n",
      "Total params: 160,305\n",
      "Trainable params: 160,305\n",
      "Non-trainable params: 0\n",
      "_________________________________________________________________\n"
     ]
    }
   ],
   "source": [
    "model.summary()"
   ]
  },
  {
   "cell_type": "code",
   "execution_count": 9,
   "id": "ec984cd6",
   "metadata": {},
   "outputs": [
    {
     "name": "stdout",
     "output_type": "stream",
     "text": [
      "Epoch 1/20\n",
      "35/35 [==============================] - 3s 68ms/step - loss: 0.1952 - accuracy: 0.7506 - val_loss: 0.1337 - val_accuracy: 0.8641\n",
      "Epoch 2/20\n",
      "35/35 [==============================] - 1s 17ms/step - loss: 0.0988 - accuracy: 0.8975 - val_loss: 0.0912 - val_accuracy: 0.8900\n",
      "Epoch 3/20\n",
      "35/35 [==============================] - 1s 15ms/step - loss: 0.0641 - accuracy: 0.9310 - val_loss: 0.0817 - val_accuracy: 0.8925\n",
      "Epoch 4/20\n",
      "35/35 [==============================] - 1s 15ms/step - loss: 0.0476 - accuracy: 0.9499 - val_loss: 0.0803 - val_accuracy: 0.8916\n",
      "Epoch 5/20\n",
      "35/35 [==============================] - 0s 14ms/step - loss: 0.0371 - accuracy: 0.9633 - val_loss: 0.0815 - val_accuracy: 0.8897\n",
      "Epoch 6/20\n",
      "35/35 [==============================] - 1s 15ms/step - loss: 0.0293 - accuracy: 0.9730 - val_loss: 0.0839 - val_accuracy: 0.8865\n",
      "Epoch 7/20\n",
      "35/35 [==============================] - 1s 20ms/step - loss: 0.0236 - accuracy: 0.9794 - val_loss: 0.0870 - val_accuracy: 0.8856\n",
      "Epoch 8/20\n",
      "35/35 [==============================] - 1s 18ms/step - loss: 0.0194 - accuracy: 0.9847 - val_loss: 0.0887 - val_accuracy: 0.8807\n",
      "Epoch 9/20\n",
      "35/35 [==============================] - 1s 19ms/step - loss: 0.0160 - accuracy: 0.9878 - val_loss: 0.0916 - val_accuracy: 0.8784\n",
      "Epoch 10/20\n",
      "35/35 [==============================] - 1s 20ms/step - loss: 0.0131 - accuracy: 0.9902 - val_loss: 0.0933 - val_accuracy: 0.8777\n",
      "Epoch 11/20\n",
      "35/35 [==============================] - 1s 15ms/step - loss: 0.0112 - accuracy: 0.9922 - val_loss: 0.0953 - val_accuracy: 0.8771\n",
      "Epoch 12/20\n",
      "35/35 [==============================] - 1s 15ms/step - loss: 0.0095 - accuracy: 0.9931 - val_loss: 0.0971 - val_accuracy: 0.8745\n",
      "Epoch 13/20\n",
      "35/35 [==============================] - 1s 17ms/step - loss: 0.0083 - accuracy: 0.9938 - val_loss: 0.0993 - val_accuracy: 0.8715\n",
      "Epoch 14/20\n",
      "35/35 [==============================] - 1s 17ms/step - loss: 0.0073 - accuracy: 0.9947 - val_loss: 0.0997 - val_accuracy: 0.8729\n",
      "Epoch 15/20\n",
      "35/35 [==============================] - 1s 18ms/step - loss: 0.0066 - accuracy: 0.9950 - val_loss: 0.1015 - val_accuracy: 0.8704\n",
      "Epoch 16/20\n",
      "35/35 [==============================] - 1s 17ms/step - loss: 0.0062 - accuracy: 0.9953 - val_loss: 0.1025 - val_accuracy: 0.8723\n",
      "Epoch 17/20\n",
      "35/35 [==============================] - 1s 17ms/step - loss: 0.0058 - accuracy: 0.9954 - val_loss: 0.1034 - val_accuracy: 0.8705\n",
      "Epoch 18/20\n",
      "35/35 [==============================] - 1s 17ms/step - loss: 0.0054 - accuracy: 0.9957 - val_loss: 0.1043 - val_accuracy: 0.8693\n",
      "Epoch 19/20\n",
      "35/35 [==============================] - 1s 17ms/step - loss: 0.0052 - accuracy: 0.9957 - val_loss: 0.1050 - val_accuracy: 0.8691\n",
      "Epoch 20/20\n",
      "35/35 [==============================] - 1s 17ms/step - loss: 0.0051 - accuracy: 0.9957 - val_loss: 0.1058 - val_accuracy: 0.8684\n"
     ]
    }
   ],
   "source": [
    "history = model.fit(x_train, y_train, validation_split = 0.3, epochs = 20, verbose = 1, batch_size = 512)"
   ]
  },
  {
   "cell_type": "code",
   "execution_count": null,
   "id": "46d8e8ea",
   "metadata": {},
   "outputs": [],
   "source": []
  }
 ],
 "metadata": {
  "kernelspec": {
   "display_name": "Python 3 (ipykernel)",
   "language": "python",
   "name": "python3"
  },
  "language_info": {
   "codemirror_mode": {
    "name": "ipython",
    "version": 3
   },
   "file_extension": ".py",
   "mimetype": "text/x-python",
   "name": "python",
   "nbconvert_exporter": "python",
   "pygments_lexer": "ipython3",
   "version": "3.10.9"
  }
 },
 "nbformat": 4,
 "nbformat_minor": 5
}
